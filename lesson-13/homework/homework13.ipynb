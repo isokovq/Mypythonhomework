{
 "cells": [
  {
   "cell_type": "code",
   "execution_count": 24,
   "id": "fb1d2f6c",
   "metadata": {},
   "outputs": [],
   "source": [
    "import datetime"
   ]
  },
  {
   "cell_type": "code",
   "execution_count": 27,
   "id": "1302d6b1",
   "metadata": {},
   "outputs": [
    {
     "name": "stdout",
     "output_type": "stream",
     "text": [
      "Age: 30 years old\n"
     ]
    }
   ],
   "source": [
    "def agecalculator(birtday):\n",
    "    try:\n",
    "        birthday = datetime.datetime.strptime(birtday, \"%Y-%m-%d\")\n",
    "        today = datetime.datetime.today()\n",
    "        age = today.year - birthday.year - ((today.month, today.day) < (birthday.month, birthday.day))\n",
    "        return age\n",
    "    except ValueError:\n",
    "        return \"Invalid date format. Please use YYYY-MM-DD.\"\n",
    "age = agecalculator(input(\"Please enter your birthday (YYYY-MM-DD): \"))\n",
    "print(f\"Age: {age} years old\")\n"
   ]
  },
  {
   "cell_type": "code",
   "execution_count": 28,
   "id": "29c4ad0c",
   "metadata": {},
   "outputs": [
    {
     "name": "stdout",
     "output_type": "stream",
     "text": [
      "Days until birthday: 362 days\n"
     ]
    }
   ],
   "source": [
    "def daysuntil_birthday(birthday):\n",
    "    try:\n",
    "        birthday = datetime.datetime.strptime(birthday, \"%Y-%m-%d\")\n",
    "        today = datetime.datetime.today()\n",
    "        next_birthday = datetime.datetime(today.year, birthday.month, birthday.day)\n",
    "        if next_birthday < today:\n",
    "            next_birthday = datetime.datetime(today.year + 1, birthday.month, birthday.day)\n",
    "        days_remaining = (next_birthday - today).days\n",
    "        return days_remaining\n",
    "    except ValueError:\n",
    "        return \"Invalid date format. Please use YYYY-MM-DD.\"\n",
    "days_remaining = daysuntil_birthday(input(\"Enter your birthday (YYYY-MM-DD): \"))\n",
    "print(f\"Days until birthday: {days_remaining} days\")"
   ]
  },
  {
   "cell_type": "code",
   "execution_count": 29,
   "id": "4c1ce3b8",
   "metadata": {},
   "outputs": [
    {
     "name": "stdout",
     "output_type": "stream",
     "text": [
      "Meeting end time: Invalid date or time format. Please use YYYY-MM-DD for date and HH:MM for time.\n"
     ]
    }
   ],
   "source": [
    "def meeting_scheduler(date, meeting_time):\n",
    "    try:\n",
    "        meeting_date = datetime.datetime.strptime(date, \"%Y-%m-%d %H:%M\").date()\n",
    "        meeting_time = datetime.datetime.strptime(meeting_time, \"%H:%M\").time()\n",
    "        meeting_endtime = datetime.datetime.combine(meeting_date, meeting_time) + datetime.timedelta(hours=1)\n",
    "        return meeting_endtime.strftime(\"%Y-%m-%d %H:%M\")\n",
    "    except ValueError:\n",
    "        return \"Invalid date or time format. Please use YYYY-MM-DD for date and HH:MM for time.\"\n",
    "date = input('Please enter a date (YYYY-MM-DD HH:MM): ')\n",
    "meeting_time = input('Please enter the meeting time (HH:MM): ')\n",
    "meeting_datetime = meeting_scheduler(date, meeting_time)\n",
    "print(f\"Meeting end time: {meeting_datetime}\")"
   ]
  },
  {
   "cell_type": "code",
   "execution_count": 33,
   "id": "6e98f361",
   "metadata": {},
   "outputs": [
    {
     "name": "stdout",
     "output_type": "stream",
     "text": [
      "Current time in the specified timezone: 2025-04-17 10:10:00 WEST+0100\n"
     ]
    }
   ],
   "source": [
    "def timezone_conversion():\n",
    "    \"\"\"\n",
    "    Convert the current time to a different timezone.\n",
    "    \"\"\"\n",
    "    import pytz\n",
    "    from datetime import datetime\n",
    "\n",
    "    # Get the current time in UTC\n",
    "    utc_now = datetime.now(pytz.utc)\n",
    "    city = input(\"Enter the timezone (e.g., 'Europe/London', 'America/New_York'): \")\n",
    "    try:\n",
    "        # Define the target timezone\n",
    "        target_timezone = pytz.timezone(city)\n",
    "        \n",
    "        # Convert the UTC time to the target timezone\n",
    "        target_time = utc_now.astimezone(target_timezone)\n",
    "\n",
    "        return target_time.strftime('%Y-%m-%d %H:%M:%S %Z%z')\n",
    "    except pytz.UnknownTimeZoneError:\n",
    "        return \"Error: Unknown timezone. Please use a valid timezone format (e.g., 'Europe/London').\"\n",
    "    \n",
    "timezone = timezone_conversion()\n",
    "print(f\"Current time in the specified timezone: {timezone}\")"
   ]
  },
  {
   "cell_type": "code",
   "execution_count": 3,
   "id": "3f2535e2",
   "metadata": {},
   "outputs": [
    {
     "name": "stdout",
     "output_type": "stream",
     "text": [
      "Converted time: 2025-04-17 16:10:00 JST+0900\n"
     ]
    }
   ],
   "source": [
    "import pytz\n",
    "from datetime import datetime\n",
    "\n",
    "def convert_timezone(date_time, from_timezone, to_timezone):\n",
    "    \"\"\"\n",
    "    Convert a given date and time from one timezone to another.\n",
    "    \"\"\"\n",
    "\n",
    "    try:\n",
    "        # Parse the input date and time\n",
    "        local_tz = pytz.timezone(from_timezone)\n",
    "        target_tz = pytz.timezone(to_timezone)\n",
    "        local_time = datetime.strptime(date_time, \"%Y-%m-%d %H:%M\")\n",
    "\n",
    "        # Localize the time to the source timezone\n",
    "        localized_time = local_tz.localize(local_time)\n",
    "\n",
    "        # Convert to the target timezone\n",
    "        converted_time = localized_time.astimezone(target_tz)\n",
    "\n",
    "        return converted_time.strftime('%Y-%m-%d %H:%M:%S %Z%z')\n",
    "    except Exception as e:\n",
    "        return f\"Error: {e}\"\n",
    "\n",
    "# Example usage\n",
    "date_time = input(\"Enter the date and time (YYYY-MM-DD HH:MM): \")\n",
    "from_timezone = input(\"Enter your current timezone (e.g., 'America/New_York'): \")\n",
    "to_timezone = input(\"Enter the target timezone (e.g., 'Asia/Tokyo'): \")\n",
    "\n",
    "converted_time = convert_timezone(date_time, from_timezone, to_timezone)\n",
    "print(f\"Converted time: {converted_time}\")"
   ]
  },
  {
   "cell_type": "code",
   "execution_count": 7,
   "id": "64e92db4",
   "metadata": {},
   "outputs": [
    {
     "name": "stdout",
     "output_type": "stream",
     "text": [
      "Time remaining: 4:50:15.519239\r"
     ]
    },
    {
     "ename": "KeyboardInterrupt",
     "evalue": "",
     "output_type": "error",
     "traceback": [
      "\u001b[31m---------------------------------------------------------------------------\u001b[39m",
      "\u001b[31mKeyboardInterrupt\u001b[39m                         Traceback (most recent call last)",
      "\u001b[36mCell\u001b[39m\u001b[36m \u001b[39m\u001b[32mIn[7]\u001b[39m\u001b[32m, line 13\u001b[39m\n\u001b[32m     11\u001b[39m     \u001b[38;5;28mprint\u001b[39m(\u001b[33m\"\u001b[39m\u001b[33mThe future time has been reached.\u001b[39m\u001b[33m\"\u001b[39m)\n\u001b[32m     12\u001b[39m     \u001b[38;5;28;01mbreak\u001b[39;00m\n\u001b[32m---> \u001b[39m\u001b[32m13\u001b[39m \u001b[43mtime\u001b[49m\u001b[43m.\u001b[49m\u001b[43msleep\u001b[49m\u001b[43m(\u001b[49m\u001b[32;43m1\u001b[39;49m\u001b[43m)\u001b[49m  \u001b[38;5;66;03m# Sleep for 1 second before checking again\u001b[39;00m\n",
      "\u001b[31mKeyboardInterrupt\u001b[39m: "
     ]
    }
   ],
   "source": [
    "import time\n",
    "import datetime\n",
    "now = datetime.datetime.now()\n",
    "future_time = datetime.datetime.strptime(input(\"print the future time (YYYY MM DD HH MM): \"), \"%Y %m %d %H %M\")\n",
    "remaining = future_time - now\n",
    "while now < future_time:\n",
    "    now = datetime.datetime.now()\n",
    "    remaining =  future_time - now\n",
    "    print(f\"Time remaining: {remaining}\",flush=True, end=\"\\r\")\n",
    "    if now >= future_time:\n",
    "        print(\"The future time has been reached.\")\n",
    "        break\n",
    "    time.sleep(1)  # Sleep for 1 second before checking again"
   ]
  },
  {
   "cell_type": "code",
   "execution_count": 8,
   "id": "6f89e224",
   "metadata": {},
   "outputs": [
    {
     "name": "stdout",
     "output_type": "stream",
     "text": [
      "Valid email address\n"
     ]
    }
   ],
   "source": [
    "import re\n",
    "email = input(\"Enter the email address: \")\n",
    "if re.match(r\"[^@]+@[^@]+\\.[^@]+\", email):\n",
    "    print(\"Valid email address\")\n",
    "else:\n",
    "    print(\"Invalid email address\")"
   ]
  },
  {
   "cell_type": "code",
   "execution_count": 36,
   "id": "dd22158f",
   "metadata": {},
   "outputs": [
    {
     "name": "stdout",
     "output_type": "stream",
     "text": [
      "Formatted phone number: (102) 345-6789\n"
     ]
    }
   ],
   "source": [
    "number = int(input(\"Enter a number: \"))\n",
    "pnumber = f\"({str(number)[:3]}) {str(number)[3:6]}-{str(number)[6:]}\"\n",
    "print(f\"Formatted phone number: {pnumber}\")"
   ]
  },
  {
   "cell_type": "code",
   "execution_count": 13,
   "id": "7aae7c4c",
   "metadata": {},
   "outputs": [
    {
     "name": "stdout",
     "output_type": "stream",
     "text": [
      "Password Strength: Moderate: Adding a special character can make your password stronger.\n"
     ]
    }
   ],
   "source": [
    "import re\n",
    "\n",
    "def password_strength_checker(password):\n",
    "    \"\"\"\n",
    "    Check the strength of a given password based on specific criteria.\n",
    "    \"\"\"\n",
    "    if len(password) < 8:\n",
    "        return \"Weak: Password must be at least 8 characters long.\"\n",
    "    if not re.search(r'[A-Z]', password):\n",
    "        return \"Weak: Password must contain at least one uppercase letter.\"\n",
    "    if not re.search(r'[a-z]', password):\n",
    "        return \"Weak: Password must contain at least one lowercase letter.\"\n",
    "    if not re.search(r'\\d', password):\n",
    "        return \"Weak: Password must contain at least one digit.\"\n",
    "    if not re.search(r'[!@#$%^&*(),.?\":{}|<>]', password):\n",
    "        return \"Moderate: Adding a special character can make your password stronger.\"\n",
    "    return \"Strong: Your password meets all the criteria.\"\n",
    "\n",
    "# Ask the user to input a password\n",
    "password = input(\"Enter a password to check its strength: \")\n",
    "strength = password_strength_checker(password)\n",
    "print(f\"Password Strength: {strength}\")"
   ]
  },
  {
   "cell_type": "code",
   "execution_count": 21,
   "id": "f470c801",
   "metadata": {},
   "outputs": [
    {
     "name": "stdout",
     "output_type": "stream",
     "text": [
      "Word 'namespaces' appears 1 times in the text.\n"
     ]
    }
   ],
   "source": [
    "this = '''The Zen of Python, by Tim Peter\n",
    "Beautiful is better than ugly.\n",
    "Explicit is better than implicit.\n",
    "Simple is better than complex.\n",
    "Complex is better than complicated.\n",
    "Flat is better than nested.\n",
    "Sparse is better than dense.\n",
    "Readability counts.\n",
    "Special cases aren't special enough to break the rules.\n",
    "Although practicality beats purity.\n",
    "Errors should never pass silently.\n",
    "Unless explicitly silenced.\n",
    "In the face of ambiguity, refuse the temptation to guess.\n",
    "There should be one-- and preferably only one --obvious way to do it.\n",
    "Although that way may not be obvious at first unless you're Dutch.\n",
    "Now is better than never.\n",
    "Although never is often better than *right* now.\n",
    "If the implementation is hard to explain, it's a bad idea.\n",
    "If the implementation is easy to explain, it may be a good idea.\n",
    "Namespaces are one honking great idea -- let's do more of those!'''\n",
    "word  = input().lower()\n",
    "wordlist = re.findall(f'{word}', this.lower())\n",
    "print(f\"Word '{word}' appears {len(wordlist)} times in the text.\")"
   ]
  },
  {
   "cell_type": "code",
   "execution_count": 23,
   "id": "025c8982",
   "metadata": {},
   "outputs": [
    {
     "data": {
      "text/plain": [
       "['1234/43/34',\n",
       " '0753/04/21',\n",
       " '1066/10/14',\n",
       " '1215/06/15',\n",
       " '1453/05/29',\n",
       " '1776/07/04',\n",
       " '1969/07/20']"
      ]
     },
     "execution_count": 23,
     "metadata": {},
     "output_type": "execute_result"
    }
   ],
   "source": [
    "text = '''A Timeline of Significant Historical Events\n",
    "This article explores key moments in history, with dates formatted as requested in the 1234/43/34 structure,\n",
    "interpreted as year/month/day for consistency.\n",
    "The Founding of Rome\n",
    "According to legend, the city of Rome was founded on 0753/04/21. \n",
    "This marked the beginning of a civilization that would dominate the Mediterranean for centuries.\n",
    "The Battle of Hastings\n",
    "On 1066/10/14, William the Conqueror defeated King Harold II at the Battle of Hastings,\n",
    " reshaping England's future and establishing Norman rule.\n",
    "The Signing of the Magna Carta\n",
    "The Magna Carta, a cornerstone of constitutional law, was signed on 1215/06/15, \n",
    "limiting the power of the English monarchy and influencing democratic principles worldwide.\n",
    "The Fall of Constantinople\n",
    "The Ottoman Empire, led by Sultan Mehmed II, captured Constantinople on 1453/05/29,\n",
    " ending the Byzantine Empire and marking a turning point in European history.\n",
    "The Declaration of Independence\n",
    "On 1776/07/04, the United States adopted the Declaration of Independence,\n",
    " formalizing its break from British rule and laying the foundation for a new nation.\n",
    "The Moon Landing\n",
    "Humanity achieved a monumental milestone on 1969/07/20, when Apollo 11 astronauts\n",
    " Neil Armstrong and Buzz Aldrin became the first humans to walk on the moon.\n",
    "These events, spanning centuries, highlight the diverse and transformative moments that have shaped the modern world.'''\n",
    "re.findall(r'\\d{4}/\\d{2}/\\d{2}', text)"
   ]
  }
 ],
 "metadata": {
  "kernelspec": {
   "display_name": "Python 3",
   "language": "python",
   "name": "python3"
  },
  "language_info": {
   "codemirror_mode": {
    "name": "ipython",
    "version": 3
   },
   "file_extension": ".py",
   "mimetype": "text/x-python",
   "name": "python",
   "nbconvert_exporter": "python",
   "pygments_lexer": "ipython3",
   "version": "3.13.2"
  }
 },
 "nbformat": 4,
 "nbformat_minor": 5
}
