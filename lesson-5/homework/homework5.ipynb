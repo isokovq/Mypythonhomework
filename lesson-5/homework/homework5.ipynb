{
 "cells": [
  {
   "cell_type": "code",
   "execution_count": 3,
   "metadata": {},
   "outputs": [
    {
     "name": "stdout",
     "output_type": "stream",
     "text": [
      "False\n"
     ]
    }
   ],
   "source": [
    "year = int(input())\n",
    "if (year % 4 == 0 and year % 100 != 0) or (year % 400 == 0):\n",
    "    print(True)\n",
    "else:\n",
    "    print(False)"
   ]
  },
  {
   "cell_type": "code",
   "execution_count": 13,
   "metadata": {},
   "outputs": [
    {
     "name": "stdout",
     "output_type": "stream",
     "text": [
      "weird\n"
     ]
    }
   ],
   "source": [
    "n = int(input())\n",
    "if 1 <= n <= 100 and (n % 2 == 1 or (6 <= n <= 20 and n % 2 == 0)):\n",
    "    print('weird')\n",
    "elif 1 <= n <= 100 and n % 2 == 0:\n",
    "    print('Not Weird')\n",
    "else:\n",
    "    print('write normal number')"
   ]
  },
  {
   "cell_type": "code",
   "execution_count": 16,
   "metadata": {},
   "outputs": [
    {
     "name": "stdout",
     "output_type": "stream",
     "text": [
      "Even numbers: [4, 6, 8, 10, 12, 14]\n"
     ]
    }
   ],
   "source": [
    "a, b = 4, 15\n",
    "even_numbers = list(range(a + a % 2, b + 1, 2))\n",
    "print(\"Even numbers:\", even_numbers)"
   ]
  },
  {
   "cell_type": "code",
   "execution_count": 18,
   "metadata": {},
   "outputs": [
    {
     "name": "stdout",
     "output_type": "stream",
     "text": [
      "Even numbers: [4, 6, 8, 10, 12, 14, 16, 18, 20]\n"
     ]
    }
   ],
   "source": [
    "a, b = int(input()), int(input())\n",
    "if a % 2 != 0:\n",
    "    a += 1\n",
    "even_numbers = list(range(a, b + 1, 2))\n",
    "print(\"Even numbers:\", even_numbers)"
   ]
  }
 ],
 "metadata": {
  "kernelspec": {
   "display_name": "Python 3",
   "language": "python",
   "name": "python3"
  },
  "language_info": {
   "codemirror_mode": {
    "name": "ipython",
    "version": 3
   },
   "file_extension": ".py",
   "mimetype": "text/x-python",
   "name": "python",
   "nbconvert_exporter": "python",
   "pygments_lexer": "ipython3",
   "version": "3.13.2"
  }
 },
 "nbformat": 4,
 "nbformat_minor": 2
}
