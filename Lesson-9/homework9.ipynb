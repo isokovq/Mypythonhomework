{
 "cells": [
  {
   "cell_type": "code",
   "execution_count": 3,
   "id": "00025f1d",
   "metadata": {},
   "outputs": [
    {
     "name": "stdout",
     "output_type": "stream",
     "text": [
      "78.5\n",
      "31.400000000000002\n"
     ]
    }
   ],
   "source": [
    "class Circle:\n",
    "    def __init__(self, radius):\n",
    "        self.radius = radius\n",
    "    def area(self):\n",
    "        return 3.14 * self.radius ** 2\n",
    "    def perimeter(self):\n",
    "        return 2 * 3.14 * self.radius \n",
    "a = Circle(5)  \n",
    "print(a.area())\n",
    "print(a.perimeter())         "
   ]
  },
  {
   "cell_type": "code",
   "execution_count": 6,
   "id": "dff0de01",
   "metadata": {},
   "outputs": [
    {
     "name": "stdout",
     "output_type": "stream",
     "text": [
      "24\n"
     ]
    }
   ],
   "source": [
    "class Person:\n",
    "    def __init__(self,name,country,date_of_birth):\n",
    "        self.name = name\n",
    "        self.country = country\n",
    "        self.date_of_birth = date_of_birth\n",
    "    def get_age(self):\n",
    "        from datetime import date\n",
    "        today = date.today()\n",
    "        birth_date = date.fromisoformat(self.date_of_birth)\n",
    "        age = today.year - birth_date.year - ((today.month, today.day) < (birth_date.month, birth_date.day))\n",
    "        return age\n",
    "Person1 = Person(\"Qahramon Isoqov\", \"Uzbekistan\", \"2000-09-29\")\n",
    "print(Person1.get_age())    "
   ]
  },
  {
   "cell_type": "code",
   "execution_count": 9,
   "id": "a1947423",
   "metadata": {},
   "outputs": [
    {
     "name": "stdout",
     "output_type": "stream",
     "text": [
      "469.04315196998124\n"
     ]
    }
   ],
   "source": [
    "class Calculator:\n",
    "    def add(self, a, b):\n",
    "        return a + b\n",
    "    def subtract(self, a, b):\n",
    "        return a - b\n",
    "    def multiply(self, a, b):\n",
    "        return a * b\n",
    "    def divide(self, a, b):\n",
    "        if b == 0:\n",
    "            return \"Error: Division by zero\"\n",
    "        return a / b\n",
    "calc = Calculator()\n",
    "print(calc.divide(1000000, 2132))"
   ]
  },
  {
   "cell_type": "code",
   "execution_count": 1,
   "id": "a1efd51e",
   "metadata": {},
   "outputs": [
    {
     "name": "stdout",
     "output_type": "stream",
     "text": [
      "Rectangle area: 20\n",
      "Rectangle perimeter: 18\n",
      "Triangle area: 6.0\n",
      "Triangle perimeter: 13.0\n"
     ]
    }
   ],
   "source": [
    "class Shape:\n",
    "    def __init__(self, sides):\n",
    "        self.sides = sides\n",
    "class Rectangle(Shape):\n",
    "    def __init__(self, width, height):\n",
    "        self.width = width\n",
    "        self.height = height\n",
    "    def area(self):\n",
    "        return self.width * self.height\n",
    "    def perimeter(self):\n",
    "        return 2 * (self.width + self.height)\n",
    "class Triangle(Shape):\n",
    "    def __init__(self, base, height):\n",
    "        self.base = base\n",
    "        self.height = height\n",
    "    def area(self):\n",
    "        return 0.5 * self.base * self.height\n",
    "    def perimeter(self):\n",
    "        return self.base + 2 * ((self.base ** 2 + self.height ** 2) ** 0.5)\n",
    "rectangle = Rectangle(4, 5)\n",
    "triangle = Triangle(3, 4)\n",
    "print(\"Rectangle area:\", rectangle.area())\n",
    "print(\"Rectangle perimeter:\", rectangle.perimeter())\n",
    "print(\"Triangle area:\", triangle.area())\n",
    "print(\"Triangle perimeter:\", triangle.perimeter())"
   ]
  },
  {
   "cell_type": "code",
   "execution_count": 2,
   "id": "6f6a2329",
   "metadata": {},
   "outputs": [
    {
     "name": "stdout",
     "output_type": "stream",
     "text": [
      "Search for 6: True\n",
      "Search for 15: False\n",
      "In-order traversal: [1, 3, 4, 6, 7, 8, 10, 13, 14]\n"
     ]
    }
   ],
   "source": [
    "class Node:\n",
    "    def __init__(self, value):\n",
    "        self.value = value\n",
    "        self.left = None\n",
    "        self.right = None\n",
    "\n",
    "\n",
    "class BinarySearchTree:\n",
    "    def __init__(self):\n",
    "        self.root = None\n",
    "\n",
    "    def insert(self, value):\n",
    "        \"\"\"Insert value into the BST.\"\"\"\n",
    "        if self.root is None:\n",
    "            self.root = Node(value)\n",
    "        else:\n",
    "            self._insert_recursive(self.root, value)\n",
    "\n",
    "    def _insert_recursive(self, current, value):\n",
    "        if value < current.value:\n",
    "            if current.left is None:\n",
    "                current.left = Node(value)\n",
    "            else:\n",
    "                self._insert_recursive(current.left, value)\n",
    "        elif value > current.value:\n",
    "            if current.right is None:\n",
    "                current.right = Node(value)\n",
    "            else:\n",
    "                self._insert_recursive(current.right, value)\n",
    "        # If value == current.value, do nothing (no duplicates)\n",
    "\n",
    "    def search(self, value):\n",
    "        \"\"\"Search for a value in the BST.\"\"\"\n",
    "        return self._search_recursive(self.root, value)\n",
    "\n",
    "    def _search_recursive(self, current, value):\n",
    "        if current is None:\n",
    "            return False\n",
    "        if value == current.value:\n",
    "            return True\n",
    "        elif value < current.value:\n",
    "            return self._search_recursive(current.left, value)\n",
    "        else:  # value > current.value\n",
    "            return self._search_recursive(current.right, value)\n",
    "\n",
    "    def inorder_traversal(self):\n",
    "        \"\"\"Optional: Returns elements in sorted order.\"\"\"\n",
    "        return self._inorder_recursive(self.root)\n",
    "\n",
    "    def _inorder_recursive(self, current):\n",
    "        if current is None:\n",
    "            return []\n",
    "        return (self._inorder_recursive(current.left) +\n",
    "                [current.value] +\n",
    "                self._inorder_recursive(current.right))\n",
    "\n",
    "\n",
    "# Example usage\n",
    "if __name__ == \"__main__\":\n",
    "    bst = BinarySearchTree()\n",
    "    for num in [8, 3, 10, 1, 6, 14, 4, 7, 13]:\n",
    "        bst.insert(num)\n",
    "\n",
    "    print(\"Search for 6:\", bst.search(6))    # True\n",
    "    print(\"Search for 15:\", bst.search(15))  # False\n",
    "    print(\"In-order traversal:\", bst.inorder_traversal())\n"
   ]
  },
  {
   "cell_type": "code",
   "execution_count": 14,
   "id": "5f5040a6",
   "metadata": {},
   "outputs": [
    {
     "name": "stdout",
     "output_type": "stream",
     "text": [
      "Top element: 20\n",
      "Stack size: 2\n",
      "Popped: 20\n",
      "Is empty? False\n"
     ]
    }
   ],
   "source": [
    "class Stack:\n",
    "    def __init__(self):\n",
    "        self.items = []\n",
    "\n",
    "    def push(self, item):\n",
    "        self.items.append(item)\n",
    "\n",
    "    def pop(self):\n",
    "        if not self.is_empty():\n",
    "            return self.items.pop()\n",
    "        raise IndexError(\"Pop from empty stack\")\n",
    "\n",
    "    def peek(self):\n",
    "        if not self.is_empty():\n",
    "            return self.items[-1]\n",
    "        raise IndexError(\"Peek from empty stack\")\n",
    "\n",
    "    def is_empty(self):\n",
    "        return len(self.items) == 0\n",
    "\n",
    "    def size(self):\n",
    "        return len(self.items)\n",
    "\n",
    "if __name__ == \"__main__\":\n",
    "    stack = Stack()\n",
    "    stack.push(10)\n",
    "    stack.push(20)\n",
    "    print(\"Top element:\", stack.peek())  # 20\n",
    "    print(\"Stack size:\", stack.size())   # 2\n",
    "    print(\"Popped:\", stack.pop())        # 20\n",
    "    print(\"Is empty?\", stack.is_empty()) # False\n"
   ]
  },
  {
   "cell_type": "code",
   "execution_count": 5,
   "id": "5c9798fc",
   "metadata": {},
   "outputs": [
    {
     "name": "stdout",
     "output_type": "stream",
     "text": [
      "apple: $1.50\n",
      "orange: $1.25\n",
      "shampoo: $2.50\n",
      "Total cost: 5.25\n"
     ]
    }
   ],
   "source": [
    "class shopping_cart:\n",
    "    def __init__(self):\n",
    "        self.items = {}\n",
    "    def add_item(self, item, price):\n",
    "        self.items[item] = price\n",
    "    def remove_item(self, item):\n",
    "        if item in self.items:\n",
    "            del self.items[item]\n",
    "    def total_cost(self):\n",
    "        return sum(self.items.values())\n",
    "    def display_items(self):\n",
    "        for item, price in self.items.items():\n",
    "            print(f\"{item}: ${price:.2f}\")\n",
    "cart = shopping_cart()\n",
    "cart.add_item(\"apple\", 1.50)    \n",
    "cart.add_item(\"banana\", 0.75)\n",
    "cart.add_item(\"orange\", 1.25)\n",
    "cart.add_item('shampoo', 2.50)\n",
    "cart.remove_item(\"banana\")\n",
    "cart.display_items()\n",
    "print(\"Total cost:\", cart.total_cost())"
   ]
  },
  {
   "cell_type": "code",
   "execution_count": null,
   "id": "af6c76c1",
   "metadata": {},
   "outputs": [
    {
     "ename": "TypeError",
     "evalue": "linked_list.append() missing 1 required positional argument: 'value'",
     "output_type": "error",
     "traceback": [
      "\u001b[31m---------------------------------------------------------------------------\u001b[39m",
      "\u001b[31mTypeError\u001b[39m                                 Traceback (most recent call last)",
      "\u001b[36mCell\u001b[39m\u001b[36m \u001b[39m\u001b[32mIn[6]\u001b[39m\u001b[32m, line 44\u001b[39m\n\u001b[32m     42\u001b[39m         \u001b[38;5;28mself\u001b[39m.head = prev\n\u001b[32m     43\u001b[39m a = linked_list\n\u001b[32m---> \u001b[39m\u001b[32m44\u001b[39m \u001b[43ma\u001b[49m\u001b[43m.\u001b[49m\u001b[43mappend\u001b[49m\u001b[43m(\u001b[49m\u001b[32;43m1\u001b[39;49m\u001b[43m)\u001b[49m\n\u001b[32m     45\u001b[39m a.append(\u001b[32m2\u001b[39m) \n\u001b[32m     46\u001b[39m a.display()\n",
      "\u001b[31mTypeError\u001b[39m: linked_list.append() missing 1 required positional argument: 'value'"
     ]
    }
   ],
   "source": [
    "class linked_list_node:\n",
    "    def __init__(self, value):\n",
    "        self.value = value\n",
    "        self.next = None\n",
    "class linked_list:\n",
    "    def __init__(self):\n",
    "        self.head = None\n",
    "    def append(self, value):\n",
    "        new_node = linked_list_node(value)\n",
    "        if not self.head:\n",
    "            self.head = new_node\n",
    "            return\n",
    "        current = self.head\n",
    "        while current.next:\n",
    "            current = current.next\n",
    "        current.next = new_node\n",
    "    def display(self):\n",
    "        current = self.head\n",
    "        while current:\n",
    "            print(current.value, end=\" -> \")\n",
    "            current = current.next\n",
    "        print(\"None\")\n",
    "    def remove_duplicates(self):\n",
    "        current = self.head\n",
    "        seen = set()\n",
    "        prev = None\n",
    "        while current:\n",
    "            if current.value in seen:\n",
    "                prev.next = current.next\n",
    "            else:\n",
    "                seen.add(current.value)\n",
    "                prev = current\n",
    "            current = current.next\n",
    "    def reverse(self):\n",
    "        prev = None\n",
    "        current = self.head\n",
    "        while current:\n",
    "            next_node = current.next\n",
    "            current.next = prev\n",
    "            prev = current\n",
    "            current = next_node\n",
    "        self.head = prev\n"
   ]
  },
  {
   "cell_type": "code",
   "execution_count": 14,
   "id": "91546dcf",
   "metadata": {},
   "outputs": [
    {
     "name": "stdout",
     "output_type": "stream",
     "text": [
      "2\n",
      "3\n"
     ]
    }
   ],
   "source": [
    "class Queue:\n",
    "    def __init__(self):\n",
    "        self.items = []\n",
    "    def enqueue(self, item):\n",
    "        self.items.insert(0, item)\n",
    "    def dequeue(self):\n",
    "        if not self.is_empty():\n",
    "            return self.items.pop()\n",
    "        raise IndexError(\"Dequeue from empty queue\")\n",
    "    def is_empty(self):\n",
    "        return len(self.items) == 0\n",
    "    def size(self):\n",
    "        return len(self.items)\n",
    "a = Queue()\n",
    "a.enqueue(1)    \n",
    "a.enqueue(2)\n",
    "a.enqueue(3)\n",
    "a.enqueue(4)\n",
    "a.enqueue(5)\n",
    "a.dequeue()\n",
    "print(a.dequeue()) \n",
    "print(a.size())        "
   ]
  },
  {
   "cell_type": "code",
   "execution_count": 17,
   "id": "e98a76d1",
   "metadata": {},
   "outputs": [
    {
     "name": "stdout",
     "output_type": "stream",
     "text": [
      "1300\n",
      "Account Number: 123456789, Balance: $1300.00\n"
     ]
    }
   ],
   "source": [
    "class BankAccount:\n",
    "    def __init__(self, account_number, balance=0):\n",
    "        self.account_number = account_number\n",
    "        self.balance = balance\n",
    "\n",
    "    def deposit(self, amount):\n",
    "        if amount > 0:\n",
    "            self.balance += amount\n",
    "            return True\n",
    "        return False\n",
    "\n",
    "    def withdraw(self, amount):\n",
    "        if 0 < amount <= self.balance:\n",
    "            self.balance -= amount\n",
    "            return True\n",
    "        return False\n",
    "\n",
    "    def get_balance(self):\n",
    "        return self.balance\n",
    "    def __str__(self):\n",
    "        return f\"Account Number: {self.account_number}, Balance: ${self.balance:.2f}\"\n",
    "account = BankAccount(\"123456789\", 1000)\n",
    "account.deposit(500)    \n",
    "account.withdraw(200)\n",
    "print(account.get_balance())\n",
    "print(account.__str__())\n"
   ]
  },
  {
   "cell_type": "code",
   "execution_count": null,
   "id": "62d17520",
   "metadata": {},
   "outputs": [],
   "source": []
  }
 ],
 "metadata": {
  "kernelspec": {
   "display_name": "Python 3",
   "language": "python",
   "name": "python3"
  },
  "language_info": {
   "codemirror_mode": {
    "name": "ipython",
    "version": 3
   },
   "file_extension": ".py",
   "mimetype": "text/x-python",
   "name": "python",
   "nbconvert_exporter": "python",
   "pygments_lexer": "ipython3",
   "version": "3.13.2"
  }
 },
 "nbformat": 4,
 "nbformat_minor": 5
}
