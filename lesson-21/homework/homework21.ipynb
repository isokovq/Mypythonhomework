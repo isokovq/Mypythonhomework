{
 "cells": [
  {
   "cell_type": "code",
   "execution_count": 19,
   "id": "01eca03f",
   "metadata": {},
   "outputs": [
    {
     "data": {
      "application/vnd.microsoft.datawrangler.viewer.v0+json": {
       "columns": [
        {
         "name": "index",
         "rawType": "int64",
         "type": "integer"
        },
        {
         "name": "Student_ID",
         "rawType": "int64",
         "type": "integer"
        },
        {
         "name": "Math",
         "rawType": "int64",
         "type": "integer"
        },
        {
         "name": "English",
         "rawType": "int64",
         "type": "integer"
        },
        {
         "name": "Science",
         "rawType": "int64",
         "type": "integer"
        }
       ],
       "conversionMethod": "pd.DataFrame",
       "ref": "e59f961e-058a-4635-8064-915defd0a66c",
       "rows": [
        [
         "0",
         "1",
         "85",
         "78",
         "90"
        ],
        [
         "1",
         "2",
         "90",
         "85",
         "92"
        ],
        [
         "2",
         "3",
         "78",
         "88",
         "85"
        ],
        [
         "3",
         "4",
         "92",
         "80",
         "88"
        ],
        [
         "4",
         "5",
         "88",
         "92",
         "94"
        ],
        [
         "5",
         "6",
         "95",
         "87",
         "79"
        ],
        [
         "6",
         "7",
         "89",
         "90",
         "83"
        ],
        [
         "7",
         "8",
         "79",
         "84",
         "91"
        ],
        [
         "8",
         "9",
         "83",
         "79",
         "87"
        ],
        [
         "9",
         "10",
         "91",
         "88",
         "89"
        ]
       ],
       "shape": {
        "columns": 4,
        "rows": 10
       }
      },
      "text/html": [
       "<div>\n",
       "<style scoped>\n",
       "    .dataframe tbody tr th:only-of-type {\n",
       "        vertical-align: middle;\n",
       "    }\n",
       "\n",
       "    .dataframe tbody tr th {\n",
       "        vertical-align: top;\n",
       "    }\n",
       "\n",
       "    .dataframe thead th {\n",
       "        text-align: right;\n",
       "    }\n",
       "</style>\n",
       "<table border=\"1\" class=\"dataframe\">\n",
       "  <thead>\n",
       "    <tr style=\"text-align: right;\">\n",
       "      <th></th>\n",
       "      <th>Student_ID</th>\n",
       "      <th>Math</th>\n",
       "      <th>English</th>\n",
       "      <th>Science</th>\n",
       "    </tr>\n",
       "  </thead>\n",
       "  <tbody>\n",
       "    <tr>\n",
       "      <th>0</th>\n",
       "      <td>1</td>\n",
       "      <td>85</td>\n",
       "      <td>78</td>\n",
       "      <td>90</td>\n",
       "    </tr>\n",
       "    <tr>\n",
       "      <th>1</th>\n",
       "      <td>2</td>\n",
       "      <td>90</td>\n",
       "      <td>85</td>\n",
       "      <td>92</td>\n",
       "    </tr>\n",
       "    <tr>\n",
       "      <th>2</th>\n",
       "      <td>3</td>\n",
       "      <td>78</td>\n",
       "      <td>88</td>\n",
       "      <td>85</td>\n",
       "    </tr>\n",
       "    <tr>\n",
       "      <th>3</th>\n",
       "      <td>4</td>\n",
       "      <td>92</td>\n",
       "      <td>80</td>\n",
       "      <td>88</td>\n",
       "    </tr>\n",
       "    <tr>\n",
       "      <th>4</th>\n",
       "      <td>5</td>\n",
       "      <td>88</td>\n",
       "      <td>92</td>\n",
       "      <td>94</td>\n",
       "    </tr>\n",
       "    <tr>\n",
       "      <th>5</th>\n",
       "      <td>6</td>\n",
       "      <td>95</td>\n",
       "      <td>87</td>\n",
       "      <td>79</td>\n",
       "    </tr>\n",
       "    <tr>\n",
       "      <th>6</th>\n",
       "      <td>7</td>\n",
       "      <td>89</td>\n",
       "      <td>90</td>\n",
       "      <td>83</td>\n",
       "    </tr>\n",
       "    <tr>\n",
       "      <th>7</th>\n",
       "      <td>8</td>\n",
       "      <td>79</td>\n",
       "      <td>84</td>\n",
       "      <td>91</td>\n",
       "    </tr>\n",
       "    <tr>\n",
       "      <th>8</th>\n",
       "      <td>9</td>\n",
       "      <td>83</td>\n",
       "      <td>79</td>\n",
       "      <td>87</td>\n",
       "    </tr>\n",
       "    <tr>\n",
       "      <th>9</th>\n",
       "      <td>10</td>\n",
       "      <td>91</td>\n",
       "      <td>88</td>\n",
       "      <td>89</td>\n",
       "    </tr>\n",
       "  </tbody>\n",
       "</table>\n",
       "</div>"
      ],
      "text/plain": [
       "   Student_ID  Math  English  Science\n",
       "0           1    85       78       90\n",
       "1           2    90       85       92\n",
       "2           3    78       88       85\n",
       "3           4    92       80       88\n",
       "4           5    88       92       94\n",
       "5           6    95       87       79\n",
       "6           7    89       90       83\n",
       "7           8    79       84       91\n",
       "8           9    83       79       87\n",
       "9          10    91       88       89"
      ]
     },
     "execution_count": 19,
     "metadata": {},
     "output_type": "execute_result"
    }
   ],
   "source": [
    "import pandas as pd\n",
    "import matplotlib.pyplot as plt\n",
    "import seaborn as sns\n",
    "import numpy as np\n",
    "\n",
    "data1 = {\n",
    "    'Student_ID': [1, 2, 3, 4, 5, 6, 7, 8, 9, 10],\n",
    "    'Math': [85, 90, 78, 92, 88, 95, 89, 79, 83, 91],\n",
    "    'English': [78, 85, 88, 80, 92, 87, 90, 84, 79, 88],\n",
    "    'Science': [90, 92, 85, 88, 94, 79, 83, 91, 87, 89]\n",
    "}\n",
    "\n",
    "df = pd.DataFrame(data1)\n",
    "df"
   ]
  },
  {
   "cell_type": "code",
   "execution_count": 20,
   "id": "e2d3600d",
   "metadata": {},
   "outputs": [
    {
     "data": {
      "application/vnd.microsoft.datawrangler.viewer.v0+json": {
       "columns": [
        {
         "name": "index",
         "rawType": "int64",
         "type": "integer"
        },
        {
         "name": "Student_ID",
         "rawType": "int64",
         "type": "integer"
        },
        {
         "name": "avg",
         "rawType": "float64",
         "type": "float"
        }
       ],
       "conversionMethod": "pd.DataFrame",
       "ref": "59af45b8-dbb2-45d2-a502-527e968e6102",
       "rows": [
        [
         "0",
         "1",
         "84.33333333333333"
        ],
        [
         "1",
         "2",
         "89.0"
        ],
        [
         "2",
         "3",
         "83.66666666666667"
        ],
        [
         "3",
         "4",
         "86.66666666666667"
        ],
        [
         "4",
         "5",
         "91.33333333333333"
        ],
        [
         "5",
         "6",
         "87.0"
        ],
        [
         "6",
         "7",
         "87.33333333333333"
        ],
        [
         "7",
         "8",
         "84.66666666666667"
        ],
        [
         "8",
         "9",
         "83.0"
        ],
        [
         "9",
         "10",
         "89.33333333333333"
        ]
       ],
       "shape": {
        "columns": 2,
        "rows": 10
       }
      },
      "text/html": [
       "<div>\n",
       "<style scoped>\n",
       "    .dataframe tbody tr th:only-of-type {\n",
       "        vertical-align: middle;\n",
       "    }\n",
       "\n",
       "    .dataframe tbody tr th {\n",
       "        vertical-align: top;\n",
       "    }\n",
       "\n",
       "    .dataframe thead th {\n",
       "        text-align: right;\n",
       "    }\n",
       "</style>\n",
       "<table border=\"1\" class=\"dataframe\">\n",
       "  <thead>\n",
       "    <tr style=\"text-align: right;\">\n",
       "      <th></th>\n",
       "      <th>Student_ID</th>\n",
       "      <th>avg</th>\n",
       "    </tr>\n",
       "  </thead>\n",
       "  <tbody>\n",
       "    <tr>\n",
       "      <th>0</th>\n",
       "      <td>1</td>\n",
       "      <td>84.333333</td>\n",
       "    </tr>\n",
       "    <tr>\n",
       "      <th>1</th>\n",
       "      <td>2</td>\n",
       "      <td>89.000000</td>\n",
       "    </tr>\n",
       "    <tr>\n",
       "      <th>2</th>\n",
       "      <td>3</td>\n",
       "      <td>83.666667</td>\n",
       "    </tr>\n",
       "    <tr>\n",
       "      <th>3</th>\n",
       "      <td>4</td>\n",
       "      <td>86.666667</td>\n",
       "    </tr>\n",
       "    <tr>\n",
       "      <th>4</th>\n",
       "      <td>5</td>\n",
       "      <td>91.333333</td>\n",
       "    </tr>\n",
       "    <tr>\n",
       "      <th>5</th>\n",
       "      <td>6</td>\n",
       "      <td>87.000000</td>\n",
       "    </tr>\n",
       "    <tr>\n",
       "      <th>6</th>\n",
       "      <td>7</td>\n",
       "      <td>87.333333</td>\n",
       "    </tr>\n",
       "    <tr>\n",
       "      <th>7</th>\n",
       "      <td>8</td>\n",
       "      <td>84.666667</td>\n",
       "    </tr>\n",
       "    <tr>\n",
       "      <th>8</th>\n",
       "      <td>9</td>\n",
       "      <td>83.000000</td>\n",
       "    </tr>\n",
       "    <tr>\n",
       "      <th>9</th>\n",
       "      <td>10</td>\n",
       "      <td>89.333333</td>\n",
       "    </tr>\n",
       "  </tbody>\n",
       "</table>\n",
       "</div>"
      ],
      "text/plain": [
       "   Student_ID        avg\n",
       "0           1  84.333333\n",
       "1           2  89.000000\n",
       "2           3  83.666667\n",
       "3           4  86.666667\n",
       "4           5  91.333333\n",
       "5           6  87.000000\n",
       "6           7  87.333333\n",
       "7           8  84.666667\n",
       "8           9  83.000000\n",
       "9          10  89.333333"
      ]
     },
     "execution_count": 20,
     "metadata": {},
     "output_type": "execute_result"
    }
   ],
   "source": [
    "df['avg'] = (df['Math'] + df['English'] + df['Science']) / 3.\n",
    "df[['Student_ID', 'avg']]"
   ]
  },
  {
   "cell_type": "code",
   "execution_count": 21,
   "id": "6da41330",
   "metadata": {},
   "outputs": [
    {
     "name": "stdout",
     "output_type": "stream",
     "text": [
      "5\n"
     ]
    }
   ],
   "source": [
    "s = df['Student_ID'][df['avg'].idxmax()]\n",
    "print(s)"
   ]
  },
  {
   "cell_type": "code",
   "execution_count": 22,
   "id": "bd67bbdd",
   "metadata": {},
   "outputs": [
    {
     "data": {
      "application/vnd.microsoft.datawrangler.viewer.v0+json": {
       "columns": [
        {
         "name": "index",
         "rawType": "int64",
         "type": "integer"
        },
        {
         "name": "Student_ID",
         "rawType": "int64",
         "type": "integer"
        },
        {
         "name": "Math",
         "rawType": "int64",
         "type": "integer"
        },
        {
         "name": "English",
         "rawType": "int64",
         "type": "integer"
        },
        {
         "name": "Science",
         "rawType": "int64",
         "type": "integer"
        },
        {
         "name": "avg",
         "rawType": "float64",
         "type": "float"
        },
        {
         "name": "Total",
         "rawType": "int64",
         "type": "integer"
        }
       ],
       "conversionMethod": "pd.DataFrame",
       "ref": "f9ca8308-8e48-4c83-93ed-9929118ecf08",
       "rows": [
        [
         "0",
         "1",
         "85",
         "78",
         "90",
         "84.33333333333333",
         "253"
        ],
        [
         "1",
         "2",
         "90",
         "85",
         "92",
         "89.0",
         "267"
        ],
        [
         "2",
         "3",
         "78",
         "88",
         "85",
         "83.66666666666667",
         "251"
        ],
        [
         "3",
         "4",
         "92",
         "80",
         "88",
         "86.66666666666667",
         "260"
        ],
        [
         "4",
         "5",
         "88",
         "92",
         "94",
         "91.33333333333333",
         "274"
        ],
        [
         "5",
         "6",
         "95",
         "87",
         "79",
         "87.0",
         "261"
        ],
        [
         "6",
         "7",
         "89",
         "90",
         "83",
         "87.33333333333333",
         "262"
        ],
        [
         "7",
         "8",
         "79",
         "84",
         "91",
         "84.66666666666667",
         "254"
        ],
        [
         "8",
         "9",
         "83",
         "79",
         "87",
         "83.0",
         "249"
        ],
        [
         "9",
         "10",
         "91",
         "88",
         "89",
         "89.33333333333333",
         "268"
        ]
       ],
       "shape": {
        "columns": 6,
        "rows": 10
       }
      },
      "text/html": [
       "<div>\n",
       "<style scoped>\n",
       "    .dataframe tbody tr th:only-of-type {\n",
       "        vertical-align: middle;\n",
       "    }\n",
       "\n",
       "    .dataframe tbody tr th {\n",
       "        vertical-align: top;\n",
       "    }\n",
       "\n",
       "    .dataframe thead th {\n",
       "        text-align: right;\n",
       "    }\n",
       "</style>\n",
       "<table border=\"1\" class=\"dataframe\">\n",
       "  <thead>\n",
       "    <tr style=\"text-align: right;\">\n",
       "      <th></th>\n",
       "      <th>Student_ID</th>\n",
       "      <th>Math</th>\n",
       "      <th>English</th>\n",
       "      <th>Science</th>\n",
       "      <th>avg</th>\n",
       "      <th>Total</th>\n",
       "    </tr>\n",
       "  </thead>\n",
       "  <tbody>\n",
       "    <tr>\n",
       "      <th>0</th>\n",
       "      <td>1</td>\n",
       "      <td>85</td>\n",
       "      <td>78</td>\n",
       "      <td>90</td>\n",
       "      <td>84.333333</td>\n",
       "      <td>253</td>\n",
       "    </tr>\n",
       "    <tr>\n",
       "      <th>1</th>\n",
       "      <td>2</td>\n",
       "      <td>90</td>\n",
       "      <td>85</td>\n",
       "      <td>92</td>\n",
       "      <td>89.000000</td>\n",
       "      <td>267</td>\n",
       "    </tr>\n",
       "    <tr>\n",
       "      <th>2</th>\n",
       "      <td>3</td>\n",
       "      <td>78</td>\n",
       "      <td>88</td>\n",
       "      <td>85</td>\n",
       "      <td>83.666667</td>\n",
       "      <td>251</td>\n",
       "    </tr>\n",
       "    <tr>\n",
       "      <th>3</th>\n",
       "      <td>4</td>\n",
       "      <td>92</td>\n",
       "      <td>80</td>\n",
       "      <td>88</td>\n",
       "      <td>86.666667</td>\n",
       "      <td>260</td>\n",
       "    </tr>\n",
       "    <tr>\n",
       "      <th>4</th>\n",
       "      <td>5</td>\n",
       "      <td>88</td>\n",
       "      <td>92</td>\n",
       "      <td>94</td>\n",
       "      <td>91.333333</td>\n",
       "      <td>274</td>\n",
       "    </tr>\n",
       "    <tr>\n",
       "      <th>5</th>\n",
       "      <td>6</td>\n",
       "      <td>95</td>\n",
       "      <td>87</td>\n",
       "      <td>79</td>\n",
       "      <td>87.000000</td>\n",
       "      <td>261</td>\n",
       "    </tr>\n",
       "    <tr>\n",
       "      <th>6</th>\n",
       "      <td>7</td>\n",
       "      <td>89</td>\n",
       "      <td>90</td>\n",
       "      <td>83</td>\n",
       "      <td>87.333333</td>\n",
       "      <td>262</td>\n",
       "    </tr>\n",
       "    <tr>\n",
       "      <th>7</th>\n",
       "      <td>8</td>\n",
       "      <td>79</td>\n",
       "      <td>84</td>\n",
       "      <td>91</td>\n",
       "      <td>84.666667</td>\n",
       "      <td>254</td>\n",
       "    </tr>\n",
       "    <tr>\n",
       "      <th>8</th>\n",
       "      <td>9</td>\n",
       "      <td>83</td>\n",
       "      <td>79</td>\n",
       "      <td>87</td>\n",
       "      <td>83.000000</td>\n",
       "      <td>249</td>\n",
       "    </tr>\n",
       "    <tr>\n",
       "      <th>9</th>\n",
       "      <td>10</td>\n",
       "      <td>91</td>\n",
       "      <td>88</td>\n",
       "      <td>89</td>\n",
       "      <td>89.333333</td>\n",
       "      <td>268</td>\n",
       "    </tr>\n",
       "  </tbody>\n",
       "</table>\n",
       "</div>"
      ],
      "text/plain": [
       "   Student_ID  Math  English  Science        avg  Total\n",
       "0           1    85       78       90  84.333333    253\n",
       "1           2    90       85       92  89.000000    267\n",
       "2           3    78       88       85  83.666667    251\n",
       "3           4    92       80       88  86.666667    260\n",
       "4           5    88       92       94  91.333333    274\n",
       "5           6    95       87       79  87.000000    261\n",
       "6           7    89       90       83  87.333333    262\n",
       "7           8    79       84       91  84.666667    254\n",
       "8           9    83       79       87  83.000000    249\n",
       "9          10    91       88       89  89.333333    268"
      ]
     },
     "execution_count": 22,
     "metadata": {},
     "output_type": "execute_result"
    }
   ],
   "source": [
    "df['Total'] = df['Math'] + df['English'] + df['Science']\n",
    "df"
   ]
  },
  {
   "cell_type": "code",
   "execution_count": 23,
   "id": "5bf20a83",
   "metadata": {},
   "outputs": [
    {
     "data": {
      "text/plain": [
       "<Axes: xlabel='Student_ID', ylabel='Total'>"
      ]
     },
     "execution_count": 23,
     "metadata": {},
     "output_type": "execute_result"
    },
    {
     "data": {
      "image/png": "[encoded data removed]",
      "text/plain": [
       "<Figure size 640x480 with 1 Axes>"
      ]
     },
     "metadata": {},
     "output_type": "display_data"
    }
   ],
   "source": [
    "sns.barplot(x='Student_ID', y='Total', data=df)"
   ]
  },
  {
   "cell_type": "code",
   "execution_count": 27,
   "id": "2f26fcd0",
   "metadata": {},
   "outputs": [
    {
     "data": {
      "image/png": "[encoded data removed]",
      "text/plain": [
       "<Figure size 640x480 with 1 Axes>"
      ]
     },
     "metadata": {},
     "output_type": "display_data"
    }
   ],
   "source": [
    "avg_grades = df[['Math', 'English', 'Science']].mean()\n",
    "avg_grades.plot(kind='bar', title='Average Grades in Each Subject', ylabel='Average Grade', xlabel='Subject', color=['blue', 'green', 'red'], )\n",
    "\n",
    "\n",
    "plt.show()"
   ]
  },
  {
   "cell_type": "code",
   "execution_count": 28,
   "id": "dac25e84",
   "metadata": {},
   "outputs": [
    {
     "data": {
      "application/vnd.microsoft.datawrangler.viewer.v0+json": {
       "columns": [
        {
         "name": "index",
         "rawType": "int64",
         "type": "integer"
        },
        {
         "name": "Date",
         "rawType": "datetime64[ns]",
         "type": "datetime"
        },
        {
         "name": "Product_A",
         "rawType": "int64",
         "type": "integer"
        },
        {
         "name": "Product_B",
         "rawType": "int64",
         "type": "integer"
        },
        {
         "name": "Product_C",
         "rawType": "int64",
         "type": "integer"
        }
       ],
       "conversionMethod": "pd.DataFrame",
       "ref": "a3cbc9c2-20a6-465b-91d8-0a1c737cc133",
       "rows": [
        [
         "0",
         "2023-01-01 00:00:00",
         "120",
         "90",
         "75"
        ],
        [
         "1",
         "2023-01-02 00:00:00",
         "150",
         "110",
         "80"
        ],
        [
         "2",
         "2023-01-03 00:00:00",
         "130",
         "100",
         "85"
        ],
        [
         "3",
         "2023-01-04 00:00:00",
         "110",
         "80",
         "70"
        ],
        [
         "4",
         "2023-01-05 00:00:00",
         "140",
         "95",
         "88"
        ],
        [
         "5",
         "2023-01-06 00:00:00",
         "160",
         "105",
         "92"
        ],
        [
         "6",
         "2023-01-07 00:00:00",
         "135",
         "98",
         "78"
        ],
        [
         "7",
         "2023-01-08 00:00:00",
         "125",
         "88",
         "82"
        ],
        [
         "8",
         "2023-01-09 00:00:00",
         "145",
         "102",
         "87"
        ],
        [
         "9",
         "2023-01-10 00:00:00",
         "155",
         "112",
         "90"
        ]
       ],
       "shape": {
        "columns": 4,
        "rows": 10
       }
      },
      "text/html": [
       "<div>\n",
       "<style scoped>\n",
       "    .dataframe tbody tr th:only-of-type {\n",
       "        vertical-align: middle;\n",
       "    }\n",
       "\n",
       "    .dataframe tbody tr th {\n",
       "        vertical-align: top;\n",
       "    }\n",
       "\n",
       "    .dataframe thead th {\n",
       "        text-align: right;\n",
       "    }\n",
       "</style>\n",
       "<table border=\"1\" class=\"dataframe\">\n",
       "  <thead>\n",
       "    <tr style=\"text-align: right;\">\n",
       "      <th></th>\n",
       "      <th>Date</th>\n",
       "      <th>Product_A</th>\n",
       "      <th>Product_B</th>\n",
       "      <th>Product_C</th>\n",
       "    </tr>\n",
       "  </thead>\n",
       "  <tbody>\n",
       "    <tr>\n",
       "      <th>0</th>\n",
       "      <td>2023-01-01</td>\n",
       "      <td>120</td>\n",
       "      <td>90</td>\n",
       "      <td>75</td>\n",
       "    </tr>\n",
       "    <tr>\n",
       "      <th>1</th>\n",
       "      <td>2023-01-02</td>\n",
       "      <td>150</td>\n",
       "      <td>110</td>\n",
       "      <td>80</td>\n",
       "    </tr>\n",
       "    <tr>\n",
       "      <th>2</th>\n",
       "      <td>2023-01-03</td>\n",
       "      <td>130</td>\n",
       "      <td>100</td>\n",
       "      <td>85</td>\n",
       "    </tr>\n",
       "    <tr>\n",
       "      <th>3</th>\n",
       "      <td>2023-01-04</td>\n",
       "      <td>110</td>\n",
       "      <td>80</td>\n",
       "      <td>70</td>\n",
       "    </tr>\n",
       "    <tr>\n",
       "      <th>4</th>\n",
       "      <td>2023-01-05</td>\n",
       "      <td>140</td>\n",
       "      <td>95</td>\n",
       "      <td>88</td>\n",
       "    </tr>\n",
       "    <tr>\n",
       "      <th>5</th>\n",
       "      <td>2023-01-06</td>\n",
       "      <td>160</td>\n",
       "      <td>105</td>\n",
       "      <td>92</td>\n",
       "    </tr>\n",
       "    <tr>\n",
       "      <th>6</th>\n",
       "      <td>2023-01-07</td>\n",
       "      <td>135</td>\n",
       "      <td>98</td>\n",
       "      <td>78</td>\n",
       "    </tr>\n",
       "    <tr>\n",
       "      <th>7</th>\n",
       "      <td>2023-01-08</td>\n",
       "      <td>125</td>\n",
       "      <td>88</td>\n",
       "      <td>82</td>\n",
       "    </tr>\n",
       "    <tr>\n",
       "      <th>8</th>\n",
       "      <td>2023-01-09</td>\n",
       "      <td>145</td>\n",
       "      <td>102</td>\n",
       "      <td>87</td>\n",
       "    </tr>\n",
       "    <tr>\n",
       "      <th>9</th>\n",
       "      <td>2023-01-10</td>\n",
       "      <td>155</td>\n",
       "      <td>112</td>\n",
       "      <td>90</td>\n",
       "    </tr>\n",
       "  </tbody>\n",
       "</table>\n",
       "</div>"
      ],
      "text/plain": [
       "        Date  Product_A  Product_B  Product_C\n",
       "0 2023-01-01        120         90         75\n",
       "1 2023-01-02        150        110         80\n",
       "2 2023-01-03        130        100         85\n",
       "3 2023-01-04        110         80         70\n",
       "4 2023-01-05        140         95         88\n",
       "5 2023-01-06        160        105         92\n",
       "6 2023-01-07        135         98         78\n",
       "7 2023-01-08        125         88         82\n",
       "8 2023-01-09        145        102         87\n",
       "9 2023-01-10        155        112         90"
      ]
     },
     "execution_count": 28,
     "metadata": {},
     "output_type": "execute_result"
    }
   ],
   "source": [
    "data2 = {\n",
    "    'Date': pd.date_range(start='2023-01-01', periods=10),\n",
    "    'Product_A': [120, 150, 130, 110, 140, 160, 135, 125, 145, 155],\n",
    "    'Product_B': [90, 110, 100, 80, 95, 105, 98, 88, 102, 112],\n",
    "    'Product_C': [75, 80, 85, 70, 88, 92, 78, 82, 87, 90]\n",
    "}\n",
    "\n",
    "df2 = pd.DataFrame(data2)\n",
    "df2"
   ]
  },
  {
   "cell_type": "code",
   "execution_count": 35,
   "id": "f7b604d4",
   "metadata": {},
   "outputs": [
    {
     "name": "stdout",
     "output_type": "stream",
     "text": [
      "1370\n",
      "980\n",
      "827\n"
     ]
    }
   ],
   "source": [
    "# Calculate the sum of Product_A\n",
    "product_a_sum = df2['Product_A'].sum()\n",
    "print(product_a_sum)\n",
    "product_b_sum = df2['Product_B'].sum()\n",
    "print(product_b_sum)\n",
    "product_c_sum = df2['Product_C'].sum()\n",
    "print(product_c_sum)"
   ]
  },
  {
   "cell_type": "code",
   "execution_count": 30,
   "id": "b10aafc1",
   "metadata": {},
   "outputs": [
    {
     "data": {
      "text/plain": [
       "Timestamp('2023-01-06 00:00:00')"
      ]
     },
     "execution_count": 30,
     "metadata": {},
     "output_type": "execute_result"
    }
   ],
   "source": [
    "df2['Date'][(df2['Product_A'] + df2['Product_B'] + df2['Product_C']).idxmax()]"
   ]
  },
  {
   "cell_type": "code",
   "execution_count": 38,
   "id": "fd3e557d",
   "metadata": {},
   "outputs": [
    {
     "data": {
      "application/vnd.microsoft.datawrangler.viewer.v0+json": {
       "columns": [
        {
         "name": "index",
         "rawType": "int64",
         "type": "integer"
        },
        {
         "name": "Product_A",
         "rawType": "float64",
         "type": "float"
        },
        {
         "name": "Product_B",
         "rawType": "float64",
         "type": "float"
        },
        {
         "name": "Product_C",
         "rawType": "float64",
         "type": "float"
        }
       ],
       "conversionMethod": "pd.DataFrame",
       "ref": "db473cac-2f11-4eb6-9f4d-a64df30a1534",
       "rows": [
        [
         "0",
         null,
         null,
         null
        ],
        [
         "1",
         "25.0",
         "22.222222222222232",
         "6.666666666666665"
        ],
        [
         "2",
         "-13.33333333333333",
         "-9.090909090909093",
         "6.25"
        ],
        [
         "3",
         "-15.384615384615385",
         "-19.999999999999996",
         "-17.647058823529417"
        ],
        [
         "4",
         "27.27272727272727",
         "18.75",
         "25.71428571428571"
        ],
        [
         "5",
         "14.28571428571428",
         "10.526315789473696",
         "4.545454545454541"
        ],
        [
         "6",
         "-15.625",
         "-6.666666666666665",
         "-15.217391304347828"
        ],
        [
         "7",
         "-7.4074074074074066",
         "-10.204081632653061",
         "5.128205128205132"
        ],
        [
         "8",
         "15.999999999999993",
         "15.909090909090917",
         "6.0975609756097615"
        ],
        [
         "9",
         "6.896551724137923",
         "9.80392156862746",
         "3.4482758620689724"
        ]
       ],
       "shape": {
        "columns": 3,
        "rows": 10
       }
      },
      "text/html": [
       "<div>\n",
       "<style scoped>\n",
       "    .dataframe tbody tr th:only-of-type {\n",
       "        vertical-align: middle;\n",
       "    }\n",
       "\n",
       "    .dataframe tbody tr th {\n",
       "        vertical-align: top;\n",
       "    }\n",
       "\n",
       "    .dataframe thead th {\n",
       "        text-align: right;\n",
       "    }\n",
       "</style>\n",
       "<table border=\"1\" class=\"dataframe\">\n",
       "  <thead>\n",
       "    <tr style=\"text-align: right;\">\n",
       "      <th></th>\n",
       "      <th>Product_A</th>\n",
       "      <th>Product_B</th>\n",
       "      <th>Product_C</th>\n",
       "    </tr>\n",
       "  </thead>\n",
       "  <tbody>\n",
       "    <tr>\n",
       "      <th>0</th>\n",
       "      <td>NaN</td>\n",
       "      <td>NaN</td>\n",
       "      <td>NaN</td>\n",
       "    </tr>\n",
       "    <tr>\n",
       "      <th>1</th>\n",
       "      <td>25.000000</td>\n",
       "      <td>22.222222</td>\n",
       "      <td>6.666667</td>\n",
       "    </tr>\n",
       "    <tr>\n",
       "      <th>2</th>\n",
       "      <td>-13.333333</td>\n",
       "      <td>-9.090909</td>\n",
       "      <td>6.250000</td>\n",
       "    </tr>\n",
       "    <tr>\n",
       "      <th>3</th>\n",
       "      <td>-15.384615</td>\n",
       "      <td>-20.000000</td>\n",
       "      <td>-17.647059</td>\n",
       "    </tr>\n",
       "    <tr>\n",
       "      <th>4</th>\n",
       "      <td>27.272727</td>\n",
       "      <td>18.750000</td>\n",
       "      <td>25.714286</td>\n",
       "    </tr>\n",
       "    <tr>\n",
       "      <th>5</th>\n",
       "      <td>14.285714</td>\n",
       "      <td>10.526316</td>\n",
       "      <td>4.545455</td>\n",
       "    </tr>\n",
       "    <tr>\n",
       "      <th>6</th>\n",
       "      <td>-15.625000</td>\n",
       "      <td>-6.666667</td>\n",
       "      <td>-15.217391</td>\n",
       "    </tr>\n",
       "    <tr>\n",
       "      <th>7</th>\n",
       "      <td>-7.407407</td>\n",
       "      <td>-10.204082</td>\n",
       "      <td>5.128205</td>\n",
       "    </tr>\n",
       "    <tr>\n",
       "      <th>8</th>\n",
       "      <td>16.000000</td>\n",
       "      <td>15.909091</td>\n",
       "      <td>6.097561</td>\n",
       "    </tr>\n",
       "    <tr>\n",
       "      <th>9</th>\n",
       "      <td>6.896552</td>\n",
       "      <td>9.803922</td>\n",
       "      <td>3.448276</td>\n",
       "    </tr>\n",
       "  </tbody>\n",
       "</table>\n",
       "</div>"
      ],
      "text/plain": [
       "   Product_A  Product_B  Product_C\n",
       "0        NaN        NaN        NaN\n",
       "1  25.000000  22.222222   6.666667\n",
       "2 -13.333333  -9.090909   6.250000\n",
       "3 -15.384615 -20.000000 -17.647059\n",
       "4  27.272727  18.750000  25.714286\n",
       "5  14.285714  10.526316   4.545455\n",
       "6 -15.625000  -6.666667 -15.217391\n",
       "7  -7.407407 -10.204082   5.128205\n",
       "8  16.000000  15.909091   6.097561\n",
       "9   6.896552   9.803922   3.448276"
      ]
     },
     "execution_count": 38,
     "metadata": {},
     "output_type": "execute_result"
    }
   ],
   "source": [
    "df2[['Product_A', 'Product_B', 'Product_C']].pct_change() * 100\n"
   ]
  },
  {
   "cell_type": "code",
   "execution_count": 39,
   "id": "5d241f1e",
   "metadata": {},
   "outputs": [
    {
     "data": {
      "text/plain": [
       "<Axes: xlabel='Date'>"
      ]
     },
     "execution_count": 39,
     "metadata": {},
     "output_type": "execute_result"
    },
    {
     "data": {
      "image/png": "[encoded data removed]",
      "text/plain": [
       "<Figure size 640x480 with 1 Axes>"
      ]
     },
     "metadata": {},
     "output_type": "display_data"
    }
   ],
   "source": [
    "#Plot a line chart to visualize the sales trends for each product over time.\n",
    "df2.plot(x='Date', y=['Product_A', 'Product_B', 'Product_C'], kind='line')"
   ]
  },
  {
   "cell_type": "code",
   "execution_count": 41,
   "id": "2be460d4",
   "metadata": {},
   "outputs": [
    {
     "data": {
      "application/vnd.microsoft.datawrangler.viewer.v0+json": {
       "columns": [
        {
         "name": "index",
         "rawType": "int64",
         "type": "integer"
        },
        {
         "name": "Employee_ID",
         "rawType": "int64",
         "type": "integer"
        },
        {
         "name": "Name",
         "rawType": "object",
         "type": "string"
        },
        {
         "name": "Department",
         "rawType": "object",
         "type": "string"
        },
        {
         "name": "Salary",
         "rawType": "int64",
         "type": "integer"
        },
        {
         "name": "Experience (Years)",
         "rawType": "int64",
         "type": "integer"
        }
       ],
       "conversionMethod": "pd.DataFrame",
       "ref": "ee1e6e79-2492-4c6d-9e1c-82a8d6de14c0",
       "rows": [
        [
         "0",
         "101",
         "Alice",
         "HR",
         "60000",
         "3"
        ],
        [
         "1",
         "102",
         "Bob",
         "IT",
         "75000",
         "5"
        ],
        [
         "2",
         "103",
         "Charlie",
         "Marketing",
         "65000",
         "2"
        ],
        [
         "3",
         "104",
         "David",
         "IT",
         "80000",
         "8"
        ],
        [
         "4",
         "105",
         "Emma",
         "Finance",
         "70000",
         "4"
        ],
        [
         "5",
         "106",
         "Frank",
         "HR",
         "72000",
         "6"
        ],
        [
         "6",
         "107",
         "Grace",
         "Marketing",
         "68000",
         "3"
        ],
        [
         "7",
         "108",
         "Hank",
         "IT",
         "78000",
         "7"
        ],
        [
         "8",
         "109",
         "Ivy",
         "Finance",
         "69000",
         "2"
        ],
        [
         "9",
         "110",
         "Jack",
         "Marketing",
         "76000",
         "5"
        ]
       ],
       "shape": {
        "columns": 5,
        "rows": 10
       }
      },
      "text/html": [
       "<div>\n",
       "<style scoped>\n",
       "    .dataframe tbody tr th:only-of-type {\n",
       "        vertical-align: middle;\n",
       "    }\n",
       "\n",
       "    .dataframe tbody tr th {\n",
       "        vertical-align: top;\n",
       "    }\n",
       "\n",
       "    .dataframe thead th {\n",
       "        text-align: right;\n",
       "    }\n",
       "</style>\n",
       "<table border=\"1\" class=\"dataframe\">\n",
       "  <thead>\n",
       "    <tr style=\"text-align: right;\">\n",
       "      <th></th>\n",
       "      <th>Employee_ID</th>\n",
       "      <th>Name</th>\n",
       "      <th>Department</th>\n",
       "      <th>Salary</th>\n",
       "      <th>Experience (Years)</th>\n",
       "    </tr>\n",
       "  </thead>\n",
       "  <tbody>\n",
       "    <tr>\n",
       "      <th>0</th>\n",
       "      <td>101</td>\n",
       "      <td>Alice</td>\n",
       "      <td>HR</td>\n",
       "      <td>60000</td>\n",
       "      <td>3</td>\n",
       "    </tr>\n",
       "    <tr>\n",
       "      <th>1</th>\n",
       "      <td>102</td>\n",
       "      <td>Bob</td>\n",
       "      <td>IT</td>\n",
       "      <td>75000</td>\n",
       "      <td>5</td>\n",
       "    </tr>\n",
       "    <tr>\n",
       "      <th>2</th>\n",
       "      <td>103</td>\n",
       "      <td>Charlie</td>\n",
       "      <td>Marketing</td>\n",
       "      <td>65000</td>\n",
       "      <td>2</td>\n",
       "    </tr>\n",
       "    <tr>\n",
       "      <th>3</th>\n",
       "      <td>104</td>\n",
       "      <td>David</td>\n",
       "      <td>IT</td>\n",
       "      <td>80000</td>\n",
       "      <td>8</td>\n",
       "    </tr>\n",
       "    <tr>\n",
       "      <th>4</th>\n",
       "      <td>105</td>\n",
       "      <td>Emma</td>\n",
       "      <td>Finance</td>\n",
       "      <td>70000</td>\n",
       "      <td>4</td>\n",
       "    </tr>\n",
       "    <tr>\n",
       "      <th>5</th>\n",
       "      <td>106</td>\n",
       "      <td>Frank</td>\n",
       "      <td>HR</td>\n",
       "      <td>72000</td>\n",
       "      <td>6</td>\n",
       "    </tr>\n",
       "    <tr>\n",
       "      <th>6</th>\n",
       "      <td>107</td>\n",
       "      <td>Grace</td>\n",
       "      <td>Marketing</td>\n",
       "      <td>68000</td>\n",
       "      <td>3</td>\n",
       "    </tr>\n",
       "    <tr>\n",
       "      <th>7</th>\n",
       "      <td>108</td>\n",
       "      <td>Hank</td>\n",
       "      <td>IT</td>\n",
       "      <td>78000</td>\n",
       "      <td>7</td>\n",
       "    </tr>\n",
       "    <tr>\n",
       "      <th>8</th>\n",
       "      <td>109</td>\n",
       "      <td>Ivy</td>\n",
       "      <td>Finance</td>\n",
       "      <td>69000</td>\n",
       "      <td>2</td>\n",
       "    </tr>\n",
       "    <tr>\n",
       "      <th>9</th>\n",
       "      <td>110</td>\n",
       "      <td>Jack</td>\n",
       "      <td>Marketing</td>\n",
       "      <td>76000</td>\n",
       "      <td>5</td>\n",
       "    </tr>\n",
       "  </tbody>\n",
       "</table>\n",
       "</div>"
      ],
      "text/plain": [
       "   Employee_ID     Name Department  Salary  Experience (Years)\n",
       "0          101    Alice         HR   60000                   3\n",
       "1          102      Bob         IT   75000                   5\n",
       "2          103  Charlie  Marketing   65000                   2\n",
       "3          104    David         IT   80000                   8\n",
       "4          105     Emma    Finance   70000                   4\n",
       "5          106    Frank         HR   72000                   6\n",
       "6          107    Grace  Marketing   68000                   3\n",
       "7          108     Hank         IT   78000                   7\n",
       "8          109      Ivy    Finance   69000                   2\n",
       "9          110     Jack  Marketing   76000                   5"
      ]
     },
     "execution_count": 41,
     "metadata": {},
     "output_type": "execute_result"
    }
   ],
   "source": [
    "data3 = {\n",
    "    'Employee_ID': [101, 102, 103, 104, 105, 106, 107, 108, 109, 110],\n",
    "    'Name': ['Alice', 'Bob', 'Charlie', 'David', 'Emma', 'Frank', 'Grace', 'Hank', 'Ivy', 'Jack'],\n",
    "    'Department': ['HR', 'IT', 'Marketing', 'IT', 'Finance', 'HR', 'Marketing', 'IT', 'Finance', 'Marketing'],\n",
    "    'Salary': [60000, 75000, 65000, 80000, 70000, 72000, 68000, 78000, 69000, 76000],\n",
    "    'Experience (Years)': [3, 5, 2, 8, 4, 6, 3, 7, 2, 5]\n",
    "}\n",
    "\n",
    "df3 = pd.DataFrame(data3)\n",
    "df3"
   ]
  },
  {
   "cell_type": "code",
   "execution_count": 45,
   "id": "f1f7ea55",
   "metadata": {},
   "outputs": [
    {
     "data": {
      "application/vnd.microsoft.datawrangler.viewer.v0+json": {
       "columns": [
        {
         "name": "Department",
         "rawType": "object",
         "type": "string"
        },
        {
         "name": "Salary",
         "rawType": "float64",
         "type": "float"
        }
       ],
       "conversionMethod": "pd.DataFrame",
       "ref": "99f12f00-db67-4427-9fd0-2ad2a60d74e9",
       "rows": [
        [
         "Finance",
         "69500.0"
        ],
        [
         "HR",
         "66000.0"
        ],
        [
         "IT",
         "77666.66666666667"
        ],
        [
         "Marketing",
         "69666.66666666667"
        ]
       ],
       "shape": {
        "columns": 1,
        "rows": 4
       }
      },
      "text/html": [
       "<div>\n",
       "<style scoped>\n",
       "    .dataframe tbody tr th:only-of-type {\n",
       "        vertical-align: middle;\n",
       "    }\n",
       "\n",
       "    .dataframe tbody tr th {\n",
       "        vertical-align: top;\n",
       "    }\n",
       "\n",
       "    .dataframe thead th {\n",
       "        text-align: right;\n",
       "    }\n",
       "</style>\n",
       "<table border=\"1\" class=\"dataframe\">\n",
       "  <thead>\n",
       "    <tr style=\"text-align: right;\">\n",
       "      <th></th>\n",
       "      <th>Salary</th>\n",
       "    </tr>\n",
       "    <tr>\n",
       "      <th>Department</th>\n",
       "      <th></th>\n",
       "    </tr>\n",
       "  </thead>\n",
       "  <tbody>\n",
       "    <tr>\n",
       "      <th>Finance</th>\n",
       "      <td>69500.000000</td>\n",
       "    </tr>\n",
       "    <tr>\n",
       "      <th>HR</th>\n",
       "      <td>66000.000000</td>\n",
       "    </tr>\n",
       "    <tr>\n",
       "      <th>IT</th>\n",
       "      <td>77666.666667</td>\n",
       "    </tr>\n",
       "    <tr>\n",
       "      <th>Marketing</th>\n",
       "      <td>69666.666667</td>\n",
       "    </tr>\n",
       "  </tbody>\n",
       "</table>\n",
       "</div>"
      ],
      "text/plain": [
       "                  Salary\n",
       "Department              \n",
       "Finance     69500.000000\n",
       "HR          66000.000000\n",
       "IT          77666.666667\n",
       "Marketing   69666.666667"
      ]
     },
     "execution_count": 45,
     "metadata": {},
     "output_type": "execute_result"
    }
   ],
   "source": [
    "df3.groupby('Department').agg({'Salary': 'mean'})"
   ]
  },
  {
   "cell_type": "code",
   "execution_count": 49,
   "id": "635a9e58",
   "metadata": {},
   "outputs": [
    {
     "data": {
      "text/plain": [
       "'David'"
      ]
     },
     "execution_count": 49,
     "metadata": {},
     "output_type": "execute_result"
    }
   ],
   "source": [
    "df3.loc[df3['Experience (Years)'].idxmax(), 'Name']"
   ]
  },
  {
   "cell_type": "code",
   "execution_count": 51,
   "id": "39787fa1",
   "metadata": {},
   "outputs": [
    {
     "data": {
      "application/vnd.microsoft.datawrangler.viewer.v0+json": {
       "columns": [
        {
         "name": "index",
         "rawType": "int64",
         "type": "integer"
        },
        {
         "name": "Employee_ID",
         "rawType": "int64",
         "type": "integer"
        },
        {
         "name": "Name",
         "rawType": "object",
         "type": "string"
        },
        {
         "name": "Department",
         "rawType": "object",
         "type": "string"
        },
        {
         "name": "Salary",
         "rawType": "int64",
         "type": "integer"
        },
        {
         "name": "Experience (Years)",
         "rawType": "int64",
         "type": "integer"
        },
        {
         "name": "Salary Increase",
         "rawType": "float64",
         "type": "float"
        }
       ],
       "conversionMethod": "pd.DataFrame",
       "ref": "3f48103c-87ae-4955-a2f2-20304f46a59f",
       "rows": [
        [
         "0",
         "101",
         "Alice",
         "HR",
         "60000",
         "3",
         "0.0"
        ],
        [
         "1",
         "102",
         "Bob",
         "IT",
         "75000",
         "5",
         "25.0"
        ],
        [
         "2",
         "103",
         "Charlie",
         "Marketing",
         "65000",
         "2",
         "8.333333333333332"
        ],
        [
         "3",
         "104",
         "David",
         "IT",
         "80000",
         "8",
         "33.33333333333333"
        ],
        [
         "4",
         "105",
         "Emma",
         "Finance",
         "70000",
         "4",
         "16.666666666666664"
        ],
        [
         "5",
         "106",
         "Frank",
         "HR",
         "72000",
         "6",
         "20.0"
        ],
        [
         "6",
         "107",
         "Grace",
         "Marketing",
         "68000",
         "3",
         "13.333333333333334"
        ],
        [
         "7",
         "108",
         "Hank",
         "IT",
         "78000",
         "7",
         "30.0"
        ],
        [
         "8",
         "109",
         "Ivy",
         "Finance",
         "69000",
         "2",
         "15.0"
        ],
        [
         "9",
         "110",
         "Jack",
         "Marketing",
         "76000",
         "5",
         "26.666666666666668"
        ]
       ],
       "shape": {
        "columns": 6,
        "rows": 10
       }
      },
      "text/html": [
       "<div>\n",
       "<style scoped>\n",
       "    .dataframe tbody tr th:only-of-type {\n",
       "        vertical-align: middle;\n",
       "    }\n",
       "\n",
       "    .dataframe tbody tr th {\n",
       "        vertical-align: top;\n",
       "    }\n",
       "\n",
       "    .dataframe thead th {\n",
       "        text-align: right;\n",
       "    }\n",
       "</style>\n",
       "<table border=\"1\" class=\"dataframe\">\n",
       "  <thead>\n",
       "    <tr style=\"text-align: right;\">\n",
       "      <th></th>\n",
       "      <th>Employee_ID</th>\n",
       "      <th>Name</th>\n",
       "      <th>Department</th>\n",
       "      <th>Salary</th>\n",
       "      <th>Experience (Years)</th>\n",
       "      <th>Salary Increase</th>\n",
       "    </tr>\n",
       "  </thead>\n",
       "  <tbody>\n",
       "    <tr>\n",
       "      <th>0</th>\n",
       "      <td>101</td>\n",
       "      <td>Alice</td>\n",
       "      <td>HR</td>\n",
       "      <td>60000</td>\n",
       "      <td>3</td>\n",
       "      <td>0.000000</td>\n",
       "    </tr>\n",
       "    <tr>\n",
       "      <th>1</th>\n",
       "      <td>102</td>\n",
       "      <td>Bob</td>\n",
       "      <td>IT</td>\n",
       "      <td>75000</td>\n",
       "      <td>5</td>\n",
       "      <td>25.000000</td>\n",
       "    </tr>\n",
       "    <tr>\n",
       "      <th>2</th>\n",
       "      <td>103</td>\n",
       "      <td>Charlie</td>\n",
       "      <td>Marketing</td>\n",
       "      <td>65000</td>\n",
       "      <td>2</td>\n",
       "      <td>8.333333</td>\n",
       "    </tr>\n",
       "    <tr>\n",
       "      <th>3</th>\n",
       "      <td>104</td>\n",
       "      <td>David</td>\n",
       "      <td>IT</td>\n",
       "      <td>80000</td>\n",
       "      <td>8</td>\n",
       "      <td>33.333333</td>\n",
       "    </tr>\n",
       "    <tr>\n",
       "      <th>4</th>\n",
       "      <td>105</td>\n",
       "      <td>Emma</td>\n",
       "      <td>Finance</td>\n",
       "      <td>70000</td>\n",
       "      <td>4</td>\n",
       "      <td>16.666667</td>\n",
       "    </tr>\n",
       "    <tr>\n",
       "      <th>5</th>\n",
       "      <td>106</td>\n",
       "      <td>Frank</td>\n",
       "      <td>HR</td>\n",
       "      <td>72000</td>\n",
       "      <td>6</td>\n",
       "      <td>20.000000</td>\n",
       "    </tr>\n",
       "    <tr>\n",
       "      <th>6</th>\n",
       "      <td>107</td>\n",
       "      <td>Grace</td>\n",
       "      <td>Marketing</td>\n",
       "      <td>68000</td>\n",
       "      <td>3</td>\n",
       "      <td>13.333333</td>\n",
       "    </tr>\n",
       "    <tr>\n",
       "      <th>7</th>\n",
       "      <td>108</td>\n",
       "      <td>Hank</td>\n",
       "      <td>IT</td>\n",
       "      <td>78000</td>\n",
       "      <td>7</td>\n",
       "      <td>30.000000</td>\n",
       "    </tr>\n",
       "    <tr>\n",
       "      <th>8</th>\n",
       "      <td>109</td>\n",
       "      <td>Ivy</td>\n",
       "      <td>Finance</td>\n",
       "      <td>69000</td>\n",
       "      <td>2</td>\n",
       "      <td>15.000000</td>\n",
       "    </tr>\n",
       "    <tr>\n",
       "      <th>9</th>\n",
       "      <td>110</td>\n",
       "      <td>Jack</td>\n",
       "      <td>Marketing</td>\n",
       "      <td>76000</td>\n",
       "      <td>5</td>\n",
       "      <td>26.666667</td>\n",
       "    </tr>\n",
       "  </tbody>\n",
       "</table>\n",
       "</div>"
      ],
      "text/plain": [
       "   Employee_ID     Name Department  Salary  Experience (Years)  \\\n",
       "0          101    Alice         HR   60000                   3   \n",
       "1          102      Bob         IT   75000                   5   \n",
       "2          103  Charlie  Marketing   65000                   2   \n",
       "3          104    David         IT   80000                   8   \n",
       "4          105     Emma    Finance   70000                   4   \n",
       "5          106    Frank         HR   72000                   6   \n",
       "6          107    Grace  Marketing   68000                   3   \n",
       "7          108     Hank         IT   78000                   7   \n",
       "8          109      Ivy    Finance   69000                   2   \n",
       "9          110     Jack  Marketing   76000                   5   \n",
       "\n",
       "   Salary Increase  \n",
       "0         0.000000  \n",
       "1        25.000000  \n",
       "2         8.333333  \n",
       "3        33.333333  \n",
       "4        16.666667  \n",
       "5        20.000000  \n",
       "6        13.333333  \n",
       "7        30.000000  \n",
       "8        15.000000  \n",
       "9        26.666667  "
      ]
     },
     "execution_count": 51,
     "metadata": {},
     "output_type": "execute_result"
    }
   ],
   "source": [
    "min_salary = df3['Salary'].min()\n",
    "df3['Salary Increase'] = ((df3['Salary'] - min_salary) / min_salary) * 100\n",
    "df3"
   ]
  },
  {
   "cell_type": "code",
   "execution_count": 57,
   "id": "f35c13fc",
   "metadata": {},
   "outputs": [
    {
     "data": {
      "image/png": "[encoded data removed]",
      "text/plain": [
       "<Figure size 640x480 with 1 Axes>"
      ]
     },
     "metadata": {},
     "output_type": "display_data"
    }
   ],
   "source": [
    "df3['Department'].value_counts().plot(kind='bar', title='Employee Distribution by Department',\n",
    "                                       xlabel='Department', ylabel='Number of Employees',\n",
    "                                         color='skyblue')\n",
    "plt.show()"
   ]
  },
  {
   "cell_type": "code",
   "execution_count": 58,
   "id": "05ed1631",
   "metadata": {},
   "outputs": [
    {
     "data": {
      "application/vnd.microsoft.datawrangler.viewer.v0+json": {
       "columns": [
        {
         "name": "index",
         "rawType": "int64",
         "type": "integer"
        },
        {
         "name": "Order_ID",
         "rawType": "int64",
         "type": "integer"
        },
        {
         "name": "Customer_ID",
         "rawType": "int64",
         "type": "integer"
        },
        {
         "name": "Product",
         "rawType": "object",
         "type": "string"
        },
        {
         "name": "Quantity",
         "rawType": "int64",
         "type": "integer"
        },
        {
         "name": "Total_Price",
         "rawType": "int64",
         "type": "integer"
        }
       ],
       "conversionMethod": "pd.DataFrame",
       "ref": "37cbbb26-098c-43d2-80d0-194506d90be6",
       "rows": [
        [
         "0",
         "101",
         "201",
         "A",
         "2",
         "120"
        ],
        [
         "1",
         "102",
         "202",
         "B",
         "3",
         "180"
        ],
        [
         "2",
         "103",
         "203",
         "A",
         "1",
         "60"
        ],
        [
         "3",
         "104",
         "204",
         "C",
         "4",
         "240"
        ],
        [
         "4",
         "105",
         "205",
         "B",
         "2",
         "160"
        ],
        [
         "5",
         "106",
         "206",
         "C",
         "3",
         "270"
        ],
        [
         "6",
         "107",
         "207",
         "A",
         "2",
         "140"
        ],
        [
         "7",
         "108",
         "208",
         "C",
         "5",
         "300"
        ],
        [
         "8",
         "109",
         "209",
         "B",
         "1",
         "90"
        ],
        [
         "9",
         "110",
         "210",
         "A",
         "3",
         "180"
        ]
       ],
       "shape": {
        "columns": 5,
        "rows": 10
       }
      },
      "text/html": [
       "<div>\n",
       "<style scoped>\n",
       "    .dataframe tbody tr th:only-of-type {\n",
       "        vertical-align: middle;\n",
       "    }\n",
       "\n",
       "    .dataframe tbody tr th {\n",
       "        vertical-align: top;\n",
       "    }\n",
       "\n",
       "    .dataframe thead th {\n",
       "        text-align: right;\n",
       "    }\n",
       "</style>\n",
       "<table border=\"1\" class=\"dataframe\">\n",
       "  <thead>\n",
       "    <tr style=\"text-align: right;\">\n",
       "      <th></th>\n",
       "      <th>Order_ID</th>\n",
       "      <th>Customer_ID</th>\n",
       "      <th>Product</th>\n",
       "      <th>Quantity</th>\n",
       "      <th>Total_Price</th>\n",
       "    </tr>\n",
       "  </thead>\n",
       "  <tbody>\n",
       "    <tr>\n",
       "      <th>0</th>\n",
       "      <td>101</td>\n",
       "      <td>201</td>\n",
       "      <td>A</td>\n",
       "      <td>2</td>\n",
       "      <td>120</td>\n",
       "    </tr>\n",
       "    <tr>\n",
       "      <th>1</th>\n",
       "      <td>102</td>\n",
       "      <td>202</td>\n",
       "      <td>B</td>\n",
       "      <td>3</td>\n",
       "      <td>180</td>\n",
       "    </tr>\n",
       "    <tr>\n",
       "      <th>2</th>\n",
       "      <td>103</td>\n",
       "      <td>203</td>\n",
       "      <td>A</td>\n",
       "      <td>1</td>\n",
       "      <td>60</td>\n",
       "    </tr>\n",
       "    <tr>\n",
       "      <th>3</th>\n",
       "      <td>104</td>\n",
       "      <td>204</td>\n",
       "      <td>C</td>\n",
       "      <td>4</td>\n",
       "      <td>240</td>\n",
       "    </tr>\n",
       "    <tr>\n",
       "      <th>4</th>\n",
       "      <td>105</td>\n",
       "      <td>205</td>\n",
       "      <td>B</td>\n",
       "      <td>2</td>\n",
       "      <td>160</td>\n",
       "    </tr>\n",
       "    <tr>\n",
       "      <th>5</th>\n",
       "      <td>106</td>\n",
       "      <td>206</td>\n",
       "      <td>C</td>\n",
       "      <td>3</td>\n",
       "      <td>270</td>\n",
       "    </tr>\n",
       "    <tr>\n",
       "      <th>6</th>\n",
       "      <td>107</td>\n",
       "      <td>207</td>\n",
       "      <td>A</td>\n",
       "      <td>2</td>\n",
       "      <td>140</td>\n",
       "    </tr>\n",
       "    <tr>\n",
       "      <th>7</th>\n",
       "      <td>108</td>\n",
       "      <td>208</td>\n",
       "      <td>C</td>\n",
       "      <td>5</td>\n",
       "      <td>300</td>\n",
       "    </tr>\n",
       "    <tr>\n",
       "      <th>8</th>\n",
       "      <td>109</td>\n",
       "      <td>209</td>\n",
       "      <td>B</td>\n",
       "      <td>1</td>\n",
       "      <td>90</td>\n",
       "    </tr>\n",
       "    <tr>\n",
       "      <th>9</th>\n",
       "      <td>110</td>\n",
       "      <td>210</td>\n",
       "      <td>A</td>\n",
       "      <td>3</td>\n",
       "      <td>180</td>\n",
       "    </tr>\n",
       "  </tbody>\n",
       "</table>\n",
       "</div>"
      ],
      "text/plain": [
       "   Order_ID  Customer_ID Product  Quantity  Total_Price\n",
       "0       101          201       A         2          120\n",
       "1       102          202       B         3          180\n",
       "2       103          203       A         1           60\n",
       "3       104          204       C         4          240\n",
       "4       105          205       B         2          160\n",
       "5       106          206       C         3          270\n",
       "6       107          207       A         2          140\n",
       "7       108          208       C         5          300\n",
       "8       109          209       B         1           90\n",
       "9       110          210       A         3          180"
      ]
     },
     "execution_count": 58,
     "metadata": {},
     "output_type": "execute_result"
    }
   ],
   "source": [
    "data4 = {\n",
    "    'Order_ID': [101, 102, 103, 104, 105, 106, 107, 108, 109, 110],\n",
    "    'Customer_ID': [201, 202, 203, 204, 205, 206, 207, 208, 209, 210],\n",
    "    'Product': ['A', 'B', 'A', 'C', 'B', 'C', 'A', 'C', 'B', 'A'],\n",
    "    'Quantity': [2, 3, 1, 4, 2, 3, 2, 5, 1, 3],\n",
    "    'Total_Price': [120, 180, 60, 240, 160, 270, 140, 300, 90, 180]\n",
    "}\n",
    "\n",
    "df4 = pd.DataFrame(data4)\n",
    "df4"
   ]
  },
  {
   "cell_type": "code",
   "execution_count": 62,
   "id": "cf202cd7",
   "metadata": {},
   "outputs": [
    {
     "name": "stdout",
     "output_type": "stream",
     "text": [
      "1740\n"
     ]
    }
   ],
   "source": [
    "tp = df4['Total_Price'].sum()\n",
    "print(tp)"
   ]
  },
  {
   "cell_type": "code",
   "execution_count": 83,
   "id": "c4f0d2e2",
   "metadata": {},
   "outputs": [
    {
     "data": {
      "text/plain": [
       "'C'"
      ]
     },
     "execution_count": 83,
     "metadata": {},
     "output_type": "execute_result"
    }
   ],
   "source": [
    "Qmax = df4.groupby('Product').agg({'Quantity': 'sum'})\n",
    "Qmax = Qmax.reset_index()\n",
    "Qmax.loc[Qmax['Quantity'].idxmax(), 'Product']"
   ]
  },
  {
   "cell_type": "code",
   "execution_count": 84,
   "id": "0a021d41",
   "metadata": {},
   "outputs": [
    {
     "data": {
      "application/vnd.microsoft.datawrangler.viewer.v0+json": {
       "columns": [
        {
         "name": "Product",
         "rawType": "object",
         "type": "string"
        },
        {
         "name": "Quantity",
         "rawType": "float64",
         "type": "float"
        }
       ],
       "conversionMethod": "pd.DataFrame",
       "ref": "659cdc60-8ba9-4a5b-b59f-da73647d77bc",
       "rows": [
        [
         "A",
         "2.0"
        ],
        [
         "B",
         "2.0"
        ],
        [
         "C",
         "4.0"
        ]
       ],
       "shape": {
        "columns": 1,
        "rows": 3
       }
      },
      "text/html": [
       "<div>\n",
       "<style scoped>\n",
       "    .dataframe tbody tr th:only-of-type {\n",
       "        vertical-align: middle;\n",
       "    }\n",
       "\n",
       "    .dataframe tbody tr th {\n",
       "        vertical-align: top;\n",
       "    }\n",
       "\n",
       "    .dataframe thead th {\n",
       "        text-align: right;\n",
       "    }\n",
       "</style>\n",
       "<table border=\"1\" class=\"dataframe\">\n",
       "  <thead>\n",
       "    <tr style=\"text-align: right;\">\n",
       "      <th></th>\n",
       "      <th>Quantity</th>\n",
       "    </tr>\n",
       "    <tr>\n",
       "      <th>Product</th>\n",
       "      <th></th>\n",
       "    </tr>\n",
       "  </thead>\n",
       "  <tbody>\n",
       "    <tr>\n",
       "      <th>A</th>\n",
       "      <td>2.0</td>\n",
       "    </tr>\n",
       "    <tr>\n",
       "      <th>B</th>\n",
       "      <td>2.0</td>\n",
       "    </tr>\n",
       "    <tr>\n",
       "      <th>C</th>\n",
       "      <td>4.0</td>\n",
       "    </tr>\n",
       "  </tbody>\n",
       "</table>\n",
       "</div>"
      ],
      "text/plain": [
       "         Quantity\n",
       "Product          \n",
       "A             2.0\n",
       "B             2.0\n",
       "C             4.0"
      ]
     },
     "execution_count": 84,
     "metadata": {},
     "output_type": "execute_result"
    }
   ],
   "source": [
    "df4.groupby('Product').agg({'Quantity': 'mean'})"
   ]
  },
  {
   "cell_type": "code",
   "execution_count": 85,
   "id": "caefc90d",
   "metadata": {},
   "outputs": [
    {
     "data": {
      "image/png": "[encoded data removed]",
      "text/plain": [
       "<Figure size 640x480 with 1 Axes>"
      ]
     },
     "metadata": {},
     "output_type": "display_data"
    }
   ],
   "source": [
    "sales_data = [product_a_sum, product_b_sum, product_c_sum]\n",
    "labels = ['Product A', 'Product B', 'Product C']\n",
    "colors = ['gold', 'lightblue', 'lightgreen']\n",
    "\n",
    "plt.pie(sales_data, labels=labels, autopct='%1.1f%%', startangle=140, colors=colors)\n",
    "plt.title('Sales Distribution Across Products')\n",
    "plt.show()"
   ]
  }
 ],
 "metadata": {
  "kernelspec": {
   "display_name": "Python 3",
   "language": "python",
   "name": "python3"
  },
  "language_info": {
   "codemirror_mode": {
    "name": "ipython",
    "version": 3
   },
   "file_extension": ".py",
   "mimetype": "text/x-python",
   "name": "python",
   "nbconvert_exporter": "python",
   "pygments_lexer": "ipython3",
   "version": "3.13.2"
  }
 },
 "nbformat": 4,
 "nbformat_minor": 5
}
